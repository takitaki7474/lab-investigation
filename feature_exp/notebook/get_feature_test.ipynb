{
 "cells": [
  {
   "cell_type": "code",
   "execution_count": 1,
   "metadata": {},
   "outputs": [],
   "source": [
    "import numpy as np\n",
    "import pandas as pd\n",
    "import cv2\n",
    "import os\n",
    "import time\n",
    "import re\n",
    "from chainer.links import VGG16Layers"
   ]
  },
  {
   "cell_type": "code",
   "execution_count": 2,
   "metadata": {},
   "outputs": [
    {
     "name": "stderr",
     "output_type": "stream",
     "text": [
      "Downloading from https://www.robots.ox.ac.uk/%7Evgg/software/very_deep/caffe/VGG_ILSVRC_16_layers.caffemodel...\n",
      "Now loading caffemodel (usually it may take few minutes)\n"
     ]
    }
   ],
   "source": [
    "model = VGG16Layers()"
   ]
  },
  {
   "cell_type": "code",
   "execution_count": 3,
   "metadata": {},
   "outputs": [],
   "source": [
    "import chainer"
   ]
  },
  {
   "cell_type": "code",
   "execution_count": 4,
   "metadata": {},
   "outputs": [
    {
     "name": "stderr",
     "output_type": "stream",
     "text": [
      "Downloading from https://www.cs.toronto.edu/~kriz/cifar-10-python.tar.gz...\n"
     ]
    }
   ],
   "source": [
    "train, test = chainer.datasets.get_cifar10()"
   ]
  },
  {
   "cell_type": "code",
   "execution_count": 17,
   "metadata": {},
   "outputs": [],
   "source": [
    "feature = model.extract([train[0][0]], layers=[\"fc7\"])"
   ]
  },
  {
   "cell_type": "code",
   "execution_count": 22,
   "metadata": {},
   "outputs": [],
   "source": [
    "def extract_feature(dataset, model, layer=\"fc7\"):\n",
    "    \n",
    "    f_table = {}\n",
    "    l_img_name = []\n",
    "    l_feature = []\n",
    "    l_label = []\n",
    "    data_count = 0\n",
    "    \n",
    "    for data in dataset:\n",
    "        tensor = data[0]\n",
    "        label = data[1]\n",
    "        img_name = \"img_\" + str(data_count)\n",
    "        \n",
    "        feature = model.extract([tensor], layers=[layer])[layer].data\n",
    "        l_img_name.append(img_name)\n",
    "        l_feature.append(feature)\n",
    "        l_label.append(l_label)\n",
    "        \n",
    "        data_count += 1\n",
    "    \n",
    "    f_table[\"img_name\"] = l_img_name\n",
    "    f_table[\"feature\"] = l_feature\n",
    "    f_table[\"label\"] = l_label\n",
    "    df = pd.DataFrame.from_dict(f_table)\n",
    "    \n",
    "    return df"
   ]
  },
  {
   "cell_type": "code",
   "execution_count": null,
   "metadata": {},
   "outputs": [],
   "source": [
    "dataset = train\n",
    "df = extract_feature(dataset, model)"
   ]
  },
  {
   "cell_type": "code",
   "execution_count": null,
   "metadata": {},
   "outputs": [],
   "source": []
  }
 ],
 "metadata": {
  "kernelspec": {
   "display_name": "Python 3",
   "language": "python",
   "name": "python3"
  },
  "language_info": {
   "codemirror_mode": {
    "name": "ipython",
    "version": 3
   },
   "file_extension": ".py",
   "mimetype": "text/x-python",
   "name": "python",
   "nbconvert_exporter": "python",
   "pygments_lexer": "ipython3",
   "version": "3.6.8"
  }
 },
 "nbformat": 4,
 "nbformat_minor": 2
}
